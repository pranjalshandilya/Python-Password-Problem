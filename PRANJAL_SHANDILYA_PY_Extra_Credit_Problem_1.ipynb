{
 "cells": [
  {
   "cell_type": "markdown",
   "metadata": {},
   "source": [
    "# Password Problem"
   ]
  },
  {
   "cell_type": "code",
   "execution_count": 1,
   "metadata": {},
   "outputs": [
    {
     "name": "stdout",
     "output_type": "stream",
     "text": [
      "Enter correct password: sdfjbsfs\n",
      "Enter correct password: sfsfsfsf\n",
      "Enter correct password: sfsfsfs\n",
      "Enter correct password: sfsfsfs\n",
      "Enter correct password: sfsfsfsf\n",
      "1 seconds remaining.\n",
      "You have 4 chances remaining\n",
      "\n",
      "Enter correct password: scsjcsjhssc\n",
      "Enter correct password: scsjshvcshjvs\n",
      "Enter correct password: jchvshcsvcvscs\n",
      "Enter correct password: schsvhsvcsvcs\n",
      "1 seconds remaining..\n",
      "You have 3 chances remaining\n",
      "\n",
      "Enter correct password: secret\n",
      "Welcome to your profile!\n"
     ]
    }
   ],
   "source": [
    "\"\"\"\n",
    "Created on Mon Aug 31 19:26:12 2020\n",
    "\n",
    "@author: Pranjal Shandilya\n",
    "\"\"\"\n",
    "\n",
    "\n",
    "count = 0                                                                       # setting counter for loop is 0 \n",
    "lv_exit = 0                                                                     # for exiting the loop after 3 chances are over\n",
    "\n",
    "def wait(n):                                                                    # function to show waiting time for next attempt\n",
    "    import sys\n",
    "    import time\n",
    "    for remaining in range(n, 0, -1):\n",
    "        sys.stdout.write(\"\\r%d seconds remaining.\" %remaining)\n",
    "        time.sleep(1)\n",
    "\n",
    "password = ' '                                                                  # generating password as string\n",
    "while password != 'secret':                                                     # comparing user input with already set password value\n",
    "    if lv_exit == 1:                                                            # for exiting the loop after all the attempts are over\n",
    "        break\n",
    "    password = input('Enter correct password: ')                                # taking user input as password\n",
    "    if password == 'secret':                                                    # If user enters correct password loop breaks \n",
    "        print(\"Welcome to your profile!\")\n",
    "    count+=1                                                                    # Increasing count by 1 \n",
    "    if count == 5:                                                              # When the count reaches five times, program makes user to wait for five seconds in order to enter password again\n",
    "        wait(5)\n",
    "        print(\"\\n\" \"You have 4 chances remaining\" \"\\n\")                         # Showing user that this tie only 4 times user can input password\n",
    "        count = 0\n",
    "        while password != 'secret':\n",
    "            if lv_exit == 1:\n",
    "                break\n",
    "            password = input('Enter correct password: ')\n",
    "            if password == 'secret':\n",
    "                print(\"Welcome to your profile!\")\n",
    "            if password == 'forgot password':                                    # If user enters forgot password in the second chance, system shows the hint\n",
    "                print(\"Hint: Blah blah blah\")\n",
    "                continue\n",
    "            count+=1\n",
    "            if count == 4:\n",
    "                wait(10)                                                         # If user enters passwords again wrong, system prompts user to wait 10 seconds this time \n",
    "                print(\"\\n\"\"You have 3 chances remaining\"\"\\n\")                    # Now use has only 3 chances remaining\n",
    "                count = 0\n",
    "                while password != 'secret':\n",
    "                    if count == 3:\n",
    "                        lv_exit = 1\n",
    "                        print(\"Machine is locked due to security reasons.\")      # If user enters password wrong for 3 times, The machine is locked permanently.\n",
    "                        break\n",
    "                    password = input('Enter correct password: ')\n",
    "                    if password == 'secret':\n",
    "                        print(\"Welcome to your profile!\")\n",
    "                    count+=1"
   ]
  },
  {
   "cell_type": "code",
   "execution_count": null,
   "metadata": {},
   "outputs": [],
   "source": []
  }
 ],
 "metadata": {
  "kernelspec": {
   "display_name": "Python 3",
   "language": "python",
   "name": "python3"
  },
  "language_info": {
   "codemirror_mode": {
    "name": "ipython",
    "version": 3
   },
   "file_extension": ".py",
   "mimetype": "text/x-python",
   "name": "python",
   "nbconvert_exporter": "python",
   "pygments_lexer": "ipython3",
   "version": "3.7.3"
  }
 },
 "nbformat": 4,
 "nbformat_minor": 2
}
